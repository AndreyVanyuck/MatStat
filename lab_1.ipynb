{
 "cells": [
  {
   "cell_type": "markdown",
   "metadata": {},
   "source": [
    "### Лабораторная №1\n",
    "![Picture for task](https://sun9-28.userapi.com/c855228/v855228840/223cd9/Iyxz1WNXnf0.jpg)\n",
    "***Вариант 4***\n",
    "$$ Y=\\sqrt{x}, a=1, b=5 $$"
   ]
  },
  {
   "cell_type": "markdown",
   "metadata": {},
   "source": [
    "1. Параметры равномерного распределения:  \n",
    "$$ m_{x} = \\frac {a+b}{2}=3, ~ \\sigma_{x} = \\sqrt{\\frac{(b-a)^2}{12}}=\\frac {2\\sqrt{3}}{3} $$\n",
    "Выборка генерируется встроенной функцией `random()`, которая возвращает число из интервала `[0,1)`"
   ]
  },
  {
   "cell_type": "code",
   "execution_count": 401,
   "metadata": {},
   "outputs": [],
   "source": [
    "import pandas as pd\n",
    "import random\n",
    "import matplotlib.pyplot as plt \n",
    "import numpy as np\n",
    "from math import sqrt"
   ]
  },
  {
   "cell_type": "code",
   "execution_count": 402,
   "metadata": {},
   "outputs": [],
   "source": [
    "f = lambda x: sqrt(x)\n",
    "a = 1\n",
    "b = 5"
   ]
  },
  {
   "cell_type": "code",
   "execution_count": 403,
   "metadata": {},
   "outputs": [
    {
     "name": "stdout",
     "output_type": "stream",
     "text": [
      "105\n"
     ]
    }
   ],
   "source": [
    "n = int(input())"
   ]
  },
  {
   "cell_type": "code",
   "execution_count": 404,
   "metadata": {},
   "outputs": [],
   "source": [
    "x = [a + (b - a) * random.uniform(0, 1) for _ in range(n)]\n",
    "y = [round(f(val), 3) for val in x]"
   ]
  },
  {
   "cell_type": "markdown",
   "metadata": {},
   "source": [
    "2. Вариационный ряд и эмпирическая функция"
   ]
  },
  {
   "cell_type": "code",
   "execution_count": 405,
   "metadata": {
    "scrolled": true
   },
   "outputs": [
    {
     "name": "stdout",
     "output_type": "stream",
     "text": [
      "Вариационный ряд\n"
     ]
    },
    {
     "data": {
      "text/html": [
       "<div>\n",
       "<style scoped>\n",
       "    .dataframe tbody tr th:only-of-type {\n",
       "        vertical-align: middle;\n",
       "    }\n",
       "\n",
       "    .dataframe tbody tr th {\n",
       "        vertical-align: top;\n",
       "    }\n",
       "\n",
       "    .dataframe thead th {\n",
       "        text-align: right;\n",
       "    }\n",
       "</style>\n",
       "<table border=\"1\" class=\"dataframe\">\n",
       "  <thead>\n",
       "    <tr style=\"text-align: right;\">\n",
       "      <th></th>\n",
       "      <th>y_i</th>\n",
       "      <th>n_i</th>\n",
       "    </tr>\n",
       "  </thead>\n",
       "  <tbody>\n",
       "    <tr>\n",
       "      <th>0</th>\n",
       "      <td>1.001</td>\n",
       "      <td>1</td>\n",
       "    </tr>\n",
       "    <tr>\n",
       "      <th>1</th>\n",
       "      <td>1.006</td>\n",
       "      <td>1</td>\n",
       "    </tr>\n",
       "    <tr>\n",
       "      <th>2</th>\n",
       "      <td>1.035</td>\n",
       "      <td>1</td>\n",
       "    </tr>\n",
       "    <tr>\n",
       "      <th>3</th>\n",
       "      <td>1.035</td>\n",
       "      <td>1</td>\n",
       "    </tr>\n",
       "    <tr>\n",
       "      <th>4</th>\n",
       "      <td>1.044</td>\n",
       "      <td>1</td>\n",
       "    </tr>\n",
       "    <tr>\n",
       "      <th>...</th>\n",
       "      <td>...</td>\n",
       "      <td>...</td>\n",
       "    </tr>\n",
       "    <tr>\n",
       "      <th>100</th>\n",
       "      <td>2.210</td>\n",
       "      <td>1</td>\n",
       "    </tr>\n",
       "    <tr>\n",
       "      <th>101</th>\n",
       "      <td>2.210</td>\n",
       "      <td>1</td>\n",
       "    </tr>\n",
       "    <tr>\n",
       "      <th>102</th>\n",
       "      <td>2.216</td>\n",
       "      <td>1</td>\n",
       "    </tr>\n",
       "    <tr>\n",
       "      <th>103</th>\n",
       "      <td>2.216</td>\n",
       "      <td>1</td>\n",
       "    </tr>\n",
       "    <tr>\n",
       "      <th>104</th>\n",
       "      <td>2.225</td>\n",
       "      <td>1</td>\n",
       "    </tr>\n",
       "  </tbody>\n",
       "</table>\n",
       "<p>105 rows × 2 columns</p>\n",
       "</div>"
      ],
      "text/plain": [
       "       y_i  n_i\n",
       "0    1.001    1\n",
       "1    1.006    1\n",
       "2    1.035    1\n",
       "3    1.035    1\n",
       "4    1.044    1\n",
       "..     ...  ...\n",
       "100  2.210    1\n",
       "101  2.210    1\n",
       "102  2.216    1\n",
       "103  2.216    1\n",
       "104  2.225    1\n",
       "\n",
       "[105 rows x 2 columns]"
      ]
     },
     "execution_count": 405,
     "metadata": {},
     "output_type": "execute_result"
    }
   ],
   "source": [
    "var_series = sorted(y)\n",
    "count = [y.count(val) for val in y]\n",
    "\n",
    "table = pd.DataFrame(\n",
    "    {\n",
    "        'y_i': var_series,\n",
    "        'n_i': count\n",
    "    }\n",
    ")\n",
    "print(\"Вариационный ряд\")\n",
    "table"
   ]
  },
  {
   "cell_type": "code",
   "execution_count": 406,
   "metadata": {
    "scrolled": true
   },
   "outputs": [
    {
     "data": {
      "image/png": "[encoded data removed]",
      "text/plain": [
       "<Figure size 432x288 with 1 Axes>"
      ]
     },
     "metadata": {
      "needs_background": "light"
     },
     "output_type": "display_data"
    }
   ],
   "source": [
    "# эмпирическая функция распределения: count(X < x0) / count(X)\n",
    "F = lambda X, x0: float(len([num for num in X if num < x0])) / float(len(X))\n",
    "\n",
    "plt.step(var_series, [F(y, y0) for y0 in var_series])\n",
    "plt.xlabel('y')\n",
    "plt.ylabel('F*(y)')\n",
    "plt.title(\"Эмпирическая функция распределения\")\n",
    "plt.show()"
   ]
  },
  {
   "cell_type": "markdown",
   "metadata": {},
   "source": [
    "3. Теоретическая функция распределения $ G(Y) $"
   ]
  },
  {
   "cell_type": "markdown",
   "metadata": {},
   "source": [
    "\n",
    "$$ f(x) = \\begin{cases}\n",
    "\\frac {1}{4}, x \\in [1,5], \\\\\n",
    "0, x \\notin [1,5] \\\\\n",
    "\\end{cases}\n",
    "$$\n",
    "$$ y = \\phi(x)= \\sqrt {x}$$\n",
    "$$x=\\psi(y)= y^2$$\n",
    "$$ |\\psi'(y)| = 2y $$\n",
    "$$ g(y) = \\phi(y)=f(\\psi(y))|\\psi'(y)| $$\n",
    "$$ g(y)= \\frac {y}{2}, y \\in [1, \\sqrt{5}] $$\n",
    "$$ G(y) = \\begin{cases}\n",
    "0, y < 0, \\\\\n",
    "\\frac {y^2}{4} - \\frac{1}{4}, y \\in [1,\\sqrt{5}],\\\\\n",
    "1, y > \\sqrt{5} \\\\\n",
    "\\end{cases}\n",
    "$$\n",
    "\n"
   ]
  },
  {
   "cell_type": "code",
   "execution_count": 407,
   "metadata": {},
   "outputs": [
    {
     "data": {
      "image/png": "[encoded data removed]",
      "text/plain": [
       "<Figure size 432x288 with 1 Axes>"
      ]
     },
     "metadata": {
      "needs_background": "light"
     },
     "output_type": "display_data"
    }
   ],
   "source": [
    "Y = lambda y: y ** 2 / 4 - 0.25\n",
    "u = np.arange(1, sqrt(5), 0.01)\n",
    "plt.plot(u, [Y(val) for val in u]) \n",
    "plt.xlabel('y')\n",
    "plt.ylabel('F(y)')\n",
    "plt.title(\"Функция распределения СВ Y\")\n",
    "plt.show()"
   ]
  },
  {
   "cell_type": "code",
   "execution_count": 408,
   "metadata": {},
   "outputs": [
    {
     "data": {
      "image/png": "[encoded data removed]",
      "text/plain": [
       "<Figure size 432x288 with 1 Axes>"
      ]
     },
     "metadata": {
      "needs_background": "light"
     },
     "output_type": "display_data"
    }
   ],
   "source": [
    "plt.step(var_series, [F(y, y0) for y0 in var_series], label=\"sqrt(x) distribution\")\n",
    "plt.plot(u, [Y(val) for val in u], label=\"theoretical function\")\n",
    "plt.legend(loc=\"best\")\n",
    "plt.xlabel('y')\n",
    "plt.title('Сравнение')\n",
    "plt.show()"
   ]
  },
  {
   "cell_type": "markdown",
   "metadata": {},
   "source": [
    "### Лабораторная №2\n",
    "![Picture for task](https://sun9-63.userapi.com/c855228/v855228840/223cec/DRLn0wFGFEE.jpg)"
   ]
  },
  {
   "cell_type": "markdown",
   "metadata": {},
   "source": [
    "**Задание 2**  \n",
    "*Равноинтервальный метод*"
   ]
  },
  {
   "cell_type": "code",
   "execution_count": 409,
   "metadata": {},
   "outputs": [
    {
     "name": "stdout",
     "output_type": "stream",
     "text": [
      "M=8, h=0.153\n"
     ]
    }
   ],
   "source": [
    "if n <= 100:\n",
    "    M = int(sqrt(n))\n",
    "else:\n",
    "    M = int(4 * np.log10(n))\n",
    "    \n",
    "h = round((var_series[-1] - var_series[0]) / M, 4)\n",
    "print(f'M={M}, h={h}')"
   ]
  },
  {
   "cell_type": "code",
   "execution_count": 410,
   "metadata": {},
   "outputs": [
    {
     "name": "stdout",
     "output_type": "stream",
     "text": [
      "[1.001, 1.154, 1.307, 1.46, 1.613, 1.766, 1.919, 2.072]\n",
      "[1.154, 1.307, 1.46, 1.613, 1.766, 1.919, 2.072, 2.225]\n",
      "invervals: [(1.001, 1.154), (1.154, 1.307), (1.307, 1.46), (1.46, 1.613), (1.613, 1.766), (1.766, 1.919), (1.919, 2.072), (2.072, 2.225)]\n"
     ]
    }
   ],
   "source": [
    "A_i = [round(var_series[0] + (i - 1) * h, 3) for i in range(1, M+2)]\n",
    "a = A_i[:-1]\n",
    "b = A_i[1:] \n",
    "intervals = list(zip(a, b))\n",
    "print(a)\n",
    "print(b)\n",
    "print(f\"invervals: {intervals}\")"
   ]
  },
  {
   "cell_type": "code",
   "execution_count": 411,
   "metadata": {},
   "outputs": [
    {
     "name": "stdout",
     "output_type": "stream",
     "text": [
      "кол-во точек в интервалах: [12.  9. 10. 14. 10. 16. 15. 19.]\n"
     ]
    }
   ],
   "source": [
    "m_i = np.zeros(M)\n",
    "num_interval = 0\n",
    "i = 0\n",
    "for val in var_series:\n",
    "    if val >= intervals[num_interval][0] and val <= intervals[num_interval][1]:\n",
    "        m_i[num_interval] += 1\n",
    "        continue\n",
    "    num_interval += 1\n",
    "    m_i[num_interval] +=1\n",
    "        \n",
    "print(f'кол-во точек в интервалах: {m_i}')"
   ]
  },
  {
   "cell_type": "code",
   "execution_count": 412,
   "metadata": {},
   "outputs": [
    {
     "name": "stdout",
     "output_type": "stream",
     "text": [
      "[0.747, 0.5602, 0.6225, 0.8715, 0.6225, 0.996, 0.9337, 1.1827]\n"
     ]
    }
   ],
   "source": [
    "#средняя плотность вероятности для каждого интервала\n",
    "f = [round(m_i[i] / (n * h), 4) for i in range(M)]\n",
    "print(f)"
   ]
  },
  {
   "cell_type": "code",
   "execution_count": 413,
   "metadata": {},
   "outputs": [
    {
     "data": {
      "image/png": "[encoded data removed]",
      "text/plain": [
       "<Figure size 432x288 with 1 Axes>"
      ]
     },
     "metadata": {
      "needs_background": "light"
     },
     "output_type": "display_data"
    }
   ],
   "source": [
    "x = [intervals[0][0]]\n",
    "y = [0]\n",
    "for i in range(M):\n",
    "    x.append(intervals[i][0])\n",
    "    x.append(intervals[i][1])\n",
    "    y.append(f[i])\n",
    "    y.append(f[i])\n",
    "x.append(intervals[M-1][1])\n",
    "y.append(0)\n",
    " \n",
    "plt.plot(x, y)\n",
    "plt.title(\"Гистограмма равноинтервальным методом\")\n",
    "plt.xlabel(\"y\")\n",
    "plt.ylabel(\"F(Y)\")\n",
    "plt.show()"
   ]
  },
  {
   "cell_type": "code",
   "execution_count": 414,
   "metadata": {},
   "outputs": [
    {
     "name": "stdout",
     "output_type": "stream",
     "text": [
      "[1.0775, 1.2305, 1.3835, 1.5365, 1.6895, 1.8425, 1.9955, 2.1485]\n"
     ]
    },
    {
     "data": {
      "image/png": "[encoded data removed]",
      "text/plain": [
       "<Figure size 432x288 with 1 Axes>"
      ]
     },
     "metadata": {
      "needs_background": "light"
     },
     "output_type": "display_data"
    }
   ],
   "source": [
    "z = [round(intervals[i][0] + (intervals[i][1] - intervals[i][0]) / 2, 5)  for i in range(M)]\n",
    "print(z)\n",
    "\n",
    "plt.plot(x, y)\n",
    "plt.plot(z, f)\n",
    "plt.title(\"Гистограмма равноинтервальным методом \")\n",
    "plt.xlabel(\"y\")\n",
    "plt.ylabel(\"F(Y)\")\n",
    "plt.show()"
   ]
  },
  {
   "cell_type": "code",
   "execution_count": 415,
   "metadata": {},
   "outputs": [
    {
     "name": "stdout",
     "output_type": "stream",
     "text": [
      "empirical function: [0.0, 0.11428571428571428, 0.2, 0.29523809523809524, 0.42857142857142855, 0.5238095238095238, 0.6761904761904762, 0.819047619047619, 1]\n"
     ]
    }
   ],
   "source": [
    "empiric_func = []\n",
    "sum = 0\n",
    "for i in m_i:\n",
    "    empiric_func.append(sum / n)\n",
    "    sum += i\n",
    "empiric_func.append(1)\n",
    "print(f'empirical function: {empiric_func}')"
   ]
  },
  {
   "cell_type": "code",
   "execution_count": 416,
   "metadata": {},
   "outputs": [
    {
     "data": {
      "image/png": "[encoded data removed]",
      "text/plain": [
       "<Figure size 432x288 with 1 Axes>"
      ]
     },
     "metadata": {
      "needs_background": "light"
     },
     "output_type": "display_data"
    }
   ],
   "source": [
    "x = [0.95, 1, 1]\n",
    "y = [0, 0, empiric_func[1]]\n",
    "del empiric_func[0]\n",
    "\n",
    "for i in range(M):\n",
    "    x.append(intervals[i][0])\n",
    "    x.append(intervals[i][1])\n",
    "    y.append(empiric_func[i])\n",
    "    y.append(empiric_func[i])\n",
    "x.append(intervals[M-1][1])\n",
    "y.append(1)\n",
    "\n",
    "Y = lambda y: y ** 2 / 4 - 0.25\n",
    "u = np.arange(1, sqrt(5), 0.01)\n",
    "plt.plot(u, [Y(val) for val in u], label=\"Theoretical function\") \n",
    "plt.plot(x, y, label='Empirical distribution function')\n",
    "plt.legend(loc=\"best\")\n",
    "plt.title(\"График эмпирической функции распределения\")\n",
    "plt.xlabel(\"y\")\n",
    "plt.ylabel(\"F(Y)\")\n",
    "plt.show()"
   ]
  },
  {
   "cell_type": "code",
   "execution_count": 417,
   "metadata": {},
   "outputs": [
    {
     "data": {
      "text/html": [
       "<div>\n",
       "<style scoped>\n",
       "    .dataframe tbody tr th:only-of-type {\n",
       "        vertical-align: middle;\n",
       "    }\n",
       "\n",
       "    .dataframe tbody tr th {\n",
       "        vertical-align: top;\n",
       "    }\n",
       "\n",
       "    .dataframe thead th {\n",
       "        text-align: right;\n",
       "    }\n",
       "</style>\n",
       "<table border=\"1\" class=\"dataframe\">\n",
       "  <thead>\n",
       "    <tr style=\"text-align: right;\">\n",
       "      <th></th>\n",
       "      <th>interval</th>\n",
       "      <th>m_i</th>\n",
       "      <th>h_i</th>\n",
       "      <th>f_i</th>\n",
       "    </tr>\n",
       "  </thead>\n",
       "  <tbody>\n",
       "    <tr>\n",
       "      <th>0</th>\n",
       "      <td>(1.001, 1.154)</td>\n",
       "      <td>12.0</td>\n",
       "      <td>0.153</td>\n",
       "      <td>0.7470</td>\n",
       "    </tr>\n",
       "    <tr>\n",
       "      <th>1</th>\n",
       "      <td>(1.154, 1.307)</td>\n",
       "      <td>9.0</td>\n",
       "      <td>0.153</td>\n",
       "      <td>0.5602</td>\n",
       "    </tr>\n",
       "    <tr>\n",
       "      <th>2</th>\n",
       "      <td>(1.307, 1.46)</td>\n",
       "      <td>10.0</td>\n",
       "      <td>0.153</td>\n",
       "      <td>0.6225</td>\n",
       "    </tr>\n",
       "    <tr>\n",
       "      <th>3</th>\n",
       "      <td>(1.46, 1.613)</td>\n",
       "      <td>14.0</td>\n",
       "      <td>0.153</td>\n",
       "      <td>0.8715</td>\n",
       "    </tr>\n",
       "    <tr>\n",
       "      <th>4</th>\n",
       "      <td>(1.613, 1.766)</td>\n",
       "      <td>10.0</td>\n",
       "      <td>0.153</td>\n",
       "      <td>0.6225</td>\n",
       "    </tr>\n",
       "    <tr>\n",
       "      <th>5</th>\n",
       "      <td>(1.766, 1.919)</td>\n",
       "      <td>16.0</td>\n",
       "      <td>0.153</td>\n",
       "      <td>0.9960</td>\n",
       "    </tr>\n",
       "    <tr>\n",
       "      <th>6</th>\n",
       "      <td>(1.919, 2.072)</td>\n",
       "      <td>15.0</td>\n",
       "      <td>0.153</td>\n",
       "      <td>0.9337</td>\n",
       "    </tr>\n",
       "    <tr>\n",
       "      <th>7</th>\n",
       "      <td>(2.072, 2.225)</td>\n",
       "      <td>19.0</td>\n",
       "      <td>0.153</td>\n",
       "      <td>1.1827</td>\n",
       "    </tr>\n",
       "  </tbody>\n",
       "</table>\n",
       "</div>"
      ],
      "text/plain": [
       "         interval   m_i    h_i     f_i\n",
       "0  (1.001, 1.154)  12.0  0.153  0.7470\n",
       "1  (1.154, 1.307)   9.0  0.153  0.5602\n",
       "2   (1.307, 1.46)  10.0  0.153  0.6225\n",
       "3   (1.46, 1.613)  14.0  0.153  0.8715\n",
       "4  (1.613, 1.766)  10.0  0.153  0.6225\n",
       "5  (1.766, 1.919)  16.0  0.153  0.9960\n",
       "6  (1.919, 2.072)  15.0  0.153  0.9337\n",
       "7  (2.072, 2.225)  19.0  0.153  1.1827"
      ]
     },
     "execution_count": 417,
     "metadata": {},
     "output_type": "execute_result"
    }
   ],
   "source": [
    "t = pd.DataFrame(\n",
    "    {\n",
    "        'interval': intervals,\n",
    "        'm_i': m_i,\n",
    "        'h_i': h,\n",
    "        'f_i': f\n",
    "    }\n",
    ")\n",
    "t"
   ]
  },
  {
   "cell_type": "code",
   "execution_count": 418,
   "metadata": {},
   "outputs": [],
   "source": [
    "Y = lambda y: y / 2\n",
    "u = np.arange(1, sqrt(5), 0.01)"
   ]
  },
  {
   "cell_type": "code",
   "execution_count": 419,
   "metadata": {},
   "outputs": [
    {
     "data": {
      "image/png": "[encoded data removed]",
      "text/plain": [
       "<Figure size 432x288 with 1 Axes>"
      ]
     },
     "metadata": {
      "needs_background": "light"
     },
     "output_type": "display_data"
    }
   ],
   "source": [
    "x = [intervals[0][0]]\n",
    "y = [0]\n",
    "for i in range(M):\n",
    "    x.append(intervals[i][0])\n",
    "    x.append(intervals[i][1])\n",
    "    y.append(f[i])\n",
    "    y.append(f[i])\n",
    "x.append(intervals[M-1][1])\n",
    "y.append(0)\n",
    " \n",
    "plt.plot(x, y, label='Empirical distribution density')\n",
    "plt.plot(u, [Y(val) for val in u], label='Theoretical distribution density')\n",
    "plt.legend(loc=\"best\")\n",
    "plt.xlabel(\"y\")\n",
    "plt.ylabel(\"F(Y)\")\n",
    "plt.show()"
   ]
  },
  {
   "cell_type": "markdown",
   "metadata": {},
   "source": [
    "![Picture for task](https://sun9-60.userapi.com/c857024/v857024004/146015/GVe2lpcHi24.jpg)"
   ]
  },
  {
   "cell_type": "code",
   "execution_count": 421,
   "metadata": {},
   "outputs": [
    {
     "name": "stdout",
     "output_type": "stream",
     "text": [
      "13\n"
     ]
    }
   ],
   "source": [
    "m_i = n // M\n",
    "print(m_i)"
   ]
  },
  {
   "cell_type": "code",
   "execution_count": null,
   "metadata": {},
   "outputs": [],
   "source": []
  }
 ],
 "metadata": {
  "kernelspec": {
   "display_name": "Python 3.6.8 64-bit",
   "language": "python",
   "name": "python36864bit32fa70fa2e4641c9834668fb3da99fce"
  },
  "language_info": {
   "codemirror_mode": {
    "name": "ipython",
    "version": 3
   },
   "file_extension": ".py",
   "mimetype": "text/x-python",
   "name": "python",
   "nbconvert_exporter": "python",
   "pygments_lexer": "ipython3",
   "version": "3.6.8"
  }
 },
 "nbformat": 4,
 "nbformat_minor": 4
}
