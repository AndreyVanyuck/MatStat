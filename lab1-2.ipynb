{
 "cells": [
  {
   "cell_type": "markdown",
   "metadata": {},
   "source": [
    "### Лабораторная №1\n",
    "![Picture for task](https://sun9-28.userapi.com/c855228/v855228840/223cd9/Iyxz1WNXnf0.jpg)\n",
    "***Вариант 4***\n",
    "$$ Y=\\sqrt{x}, a=1, b=5 $$"
   ]
  },
  {
   "cell_type": "markdown",
   "metadata": {},
   "source": [
    "1. Параметры равномерного распределения:  \n",
    "$$ m_{x} = \\frac {a+b}{2}=3, ~ \\sigma_{x} = \\sqrt{\\frac{(b-a)^2}{12}}=\\frac {2\\sqrt{3}}{3} $$\n",
    "Выборка генерируется встроенной функцией `random()`, которая возвращает число из интервала `[0,1)`"
   ]
  },
  {
   "cell_type": "code",
   "execution_count": 508,
   "metadata": {},
   "outputs": [],
   "source": [
    "import pandas as pd\n",
    "import random\n",
    "import matplotlib.pyplot as plt \n",
    "import numpy as np\n",
    "from math import sqrt"
   ]
  },
  {
   "cell_type": "code",
   "execution_count": 509,
   "metadata": {},
   "outputs": [],
   "source": [
    "f = lambda x: sqrt(x)\n",
    "a = 1\n",
    "b = 5"
   ]
  },
  {
   "cell_type": "code",
   "execution_count": 510,
   "metadata": {},
   "outputs": [
    {
     "name": "stdout",
     "output_type": "stream",
     "text": [
      "105\n"
     ]
    }
   ],
   "source": [
    "n = int(input())"
   ]
  },
  {
   "cell_type": "code",
   "execution_count": 511,
   "metadata": {},
   "outputs": [],
   "source": [
    "x = [a + (b - a) * random.uniform(0, 1) for _ in range(n)]\n",
    "y = [round(f(val), 3) for val in x]"
   ]
  },
  {
   "cell_type": "markdown",
   "metadata": {},
   "source": [
    "2. Вариационный ряд и эмпирическая функция"
   ]
  },
  {
   "cell_type": "code",
   "execution_count": 512,
   "metadata": {
    "scrolled": true
   },
   "outputs": [
    {
     "name": "stdout",
     "output_type": "stream",
     "text": [
      "Вариационный ряд\n"
     ]
    },
    {
     "data": {
      "text/html": [
       "<div>\n",
       "<style scoped>\n",
       "    .dataframe tbody tr th:only-of-type {\n",
       "        vertical-align: middle;\n",
       "    }\n",
       "\n",
       "    .dataframe tbody tr th {\n",
       "        vertical-align: top;\n",
       "    }\n",
       "\n",
       "    .dataframe thead th {\n",
       "        text-align: right;\n",
       "    }\n",
       "</style>\n",
       "<table border=\"1\" class=\"dataframe\">\n",
       "  <thead>\n",
       "    <tr style=\"text-align: right;\">\n",
       "      <th></th>\n",
       "      <th>y_i</th>\n",
       "      <th>n_i</th>\n",
       "    </tr>\n",
       "  </thead>\n",
       "  <tbody>\n",
       "    <tr>\n",
       "      <th>0</th>\n",
       "      <td>1.014</td>\n",
       "      <td>1</td>\n",
       "    </tr>\n",
       "    <tr>\n",
       "      <th>1</th>\n",
       "      <td>1.042</td>\n",
       "      <td>1</td>\n",
       "    </tr>\n",
       "    <tr>\n",
       "      <th>2</th>\n",
       "      <td>1.052</td>\n",
       "      <td>1</td>\n",
       "    </tr>\n",
       "    <tr>\n",
       "      <th>3</th>\n",
       "      <td>1.060</td>\n",
       "      <td>1</td>\n",
       "    </tr>\n",
       "    <tr>\n",
       "      <th>4</th>\n",
       "      <td>1.077</td>\n",
       "      <td>1</td>\n",
       "    </tr>\n",
       "    <tr>\n",
       "      <th>...</th>\n",
       "      <td>...</td>\n",
       "      <td>...</td>\n",
       "    </tr>\n",
       "    <tr>\n",
       "      <th>100</th>\n",
       "      <td>2.194</td>\n",
       "      <td>1</td>\n",
       "    </tr>\n",
       "    <tr>\n",
       "      <th>101</th>\n",
       "      <td>2.197</td>\n",
       "      <td>1</td>\n",
       "    </tr>\n",
       "    <tr>\n",
       "      <th>102</th>\n",
       "      <td>2.203</td>\n",
       "      <td>1</td>\n",
       "    </tr>\n",
       "    <tr>\n",
       "      <th>103</th>\n",
       "      <td>2.233</td>\n",
       "      <td>1</td>\n",
       "    </tr>\n",
       "    <tr>\n",
       "      <th>104</th>\n",
       "      <td>2.236</td>\n",
       "      <td>1</td>\n",
       "    </tr>\n",
       "  </tbody>\n",
       "</table>\n",
       "<p>105 rows × 2 columns</p>\n",
       "</div>"
      ],
      "text/plain": [
       "       y_i  n_i\n",
       "0    1.014    1\n",
       "1    1.042    1\n",
       "2    1.052    1\n",
       "3    1.060    1\n",
       "4    1.077    1\n",
       "..     ...  ...\n",
       "100  2.194    1\n",
       "101  2.197    1\n",
       "102  2.203    1\n",
       "103  2.233    1\n",
       "104  2.236    1\n",
       "\n",
       "[105 rows x 2 columns]"
      ]
     },
     "execution_count": 512,
     "metadata": {},
     "output_type": "execute_result"
    }
   ],
   "source": [
    "var_series = sorted(y)\n",
    "count = [y.count(val) for val in y]\n",
    "\n",
    "table = pd.DataFrame(\n",
    "    {\n",
    "        'y_i': var_series,\n",
    "        'n_i': count\n",
    "    }\n",
    ")\n",
    "print(\"Вариационный ряд\")\n",
    "table"
   ]
  },
  {
   "cell_type": "code",
   "execution_count": 513,
   "metadata": {
    "scrolled": true
   },
   "outputs": [
    {
     "data": {
      "image/png": "[encoded data removed]",
      "text/plain": [
       "<Figure size 432x288 with 1 Axes>"
      ]
     },
     "metadata": {
      "needs_background": "light"
     },
     "output_type": "display_data"
    }
   ],
   "source": [
    "# эмпирическая функция распределения: count(X < x0) / count(X)\n",
    "F = lambda X, x0: float(len([num for num in X if num < x0])) / float(len(X))\n",
    "\n",
    "plt.step(var_series, [F(y, y0) for y0 in var_series])\n",
    "plt.xlabel('y')\n",
    "plt.ylabel('F*(y)')\n",
    "plt.title(\"Эмпирическая функция распределения\")\n",
    "plt.show()"
   ]
  },
  {
   "cell_type": "markdown",
   "metadata": {},
   "source": [
    "3. Теоретическая функция распределения $ G(Y) $"
   ]
  },
  {
   "cell_type": "markdown",
   "metadata": {},
   "source": [
    "\n",
    "$$ f(x) = \\begin{cases}\n",
    "\\frac {1}{4}, x \\in [1,5], \\\\\n",
    "0, x \\notin [1,5] \\\\\n",
    "\\end{cases}\n",
    "$$\n",
    "$$ y = \\phi(x)= \\sqrt {x}$$\n",
    "$$x=\\psi(y)= y^2$$\n",
    "$$ |\\psi'(y)| = 2y $$\n",
    "$$ g(y) = \\phi(y)=f(\\psi(y))|\\psi'(y)| $$\n",
    "$$ g(y)= \\frac {y}{2}, y \\in [1, \\sqrt{5}] $$\n",
    "$$ G(y) = \\begin{cases}\n",
    "0, y < 0, \\\\\n",
    "\\frac {y^2}{4} - \\frac{1}{4}, y \\in [1,\\sqrt{5}],\\\\\n",
    "1, y > \\sqrt{5} \\\\\n",
    "\\end{cases}\n",
    "$$\n",
    "\n"
   ]
  },
  {
   "cell_type": "code",
   "execution_count": 514,
   "metadata": {},
   "outputs": [
    {
     "data": {
      "image/png": "[encoded data removed]",
      "text/plain": [
       "<Figure size 432x288 with 1 Axes>"
      ]
     },
     "metadata": {
      "needs_background": "light"
     },
     "output_type": "display_data"
    }
   ],
   "source": [
    "Y = lambda y: y ** 2 / 4 - 0.25\n",
    "u = np.arange(1, sqrt(5), 0.01)\n",
    "plt.plot(u, [Y(val) for val in u]) \n",
    "plt.xlabel('y')\n",
    "plt.ylabel('F(y)')\n",
    "plt.title(\"Функция распределения СВ Y\")\n",
    "plt.show()"
   ]
  },
  {
   "cell_type": "code",
   "execution_count": 515,
   "metadata": {},
   "outputs": [
    {
     "data": {
      "image/png": "[encoded data removed]",
      "text/plain": [
       "<Figure size 432x288 with 1 Axes>"
      ]
     },
     "metadata": {
      "needs_background": "light"
     },
     "output_type": "display_data"
    }
   ],
   "source": [
    "plt.step(var_series, [F(y, y0) for y0 in var_series], label=\"sqrt(x) distribution\")\n",
    "plt.plot(u, [Y(val) for val in u], label=\"theoretical function\")\n",
    "plt.legend(loc=\"best\")\n",
    "plt.xlabel('y')\n",
    "plt.title('Сравнение')\n",
    "plt.show()"
   ]
  },
  {
   "cell_type": "markdown",
   "metadata": {},
   "source": [
    "### Лабораторная №2\n",
    "![Picture for task](https://sun9-63.userapi.com/c855228/v855228840/223cec/DRLn0wFGFEE.jpg)"
   ]
  },
  {
   "cell_type": "markdown",
   "metadata": {},
   "source": [
    "**Задание 2**  \n",
    "*Равноинтервальный метод*"
   ]
  },
  {
   "cell_type": "code",
   "execution_count": 516,
   "metadata": {},
   "outputs": [],
   "source": [
    "if n <= 100:\n",
    "    M = int(sqrt(n))\n",
    "else:\n",
    "    M = int(4 * np.log10(n))"
   ]
  },
  {
   "cell_type": "code",
   "execution_count": 517,
   "metadata": {},
   "outputs": [
    {
     "name": "stdout",
     "output_type": "stream",
     "text": [
      "M=8, h=0.1528\n"
     ]
    }
   ],
   "source": [
    "h = round((var_series[-1] - var_series[0]) / M, 4)\n",
    "print(f'M={M}, h={h}')"
   ]
  },
  {
   "cell_type": "code",
   "execution_count": 518,
   "metadata": {},
   "outputs": [
    {
     "name": "stdout",
     "output_type": "stream",
     "text": [
      "[1.014, 1.167, 1.32, 1.472, 1.625, 1.778, 1.931, 2.084]\n",
      "[1.167, 1.32, 1.472, 1.625, 1.778, 1.931, 2.084, 2.236]\n",
      "invervals: [(1.014, 1.167), (1.167, 1.32), (1.32, 1.472), (1.472, 1.625), (1.625, 1.778), (1.778, 1.931), (1.931, 2.084), (2.084, 2.236)]\n"
     ]
    }
   ],
   "source": [
    "A_i = [round(var_series[0] + (i - 1) * h, 3) for i in range(1, M+2)]\n",
    "a = A_i[:-1]\n",
    "b = A_i[1:] \n",
    "intervals = list(zip(a, b))\n",
    "print(a)\n",
    "print(b)\n",
    "print(f\"invervals: {intervals}\")"
   ]
  },
  {
   "cell_type": "code",
   "execution_count": 519,
   "metadata": {},
   "outputs": [
    {
     "name": "stdout",
     "output_type": "stream",
     "text": [
      "кол-во точек в интервалах: [12.  7. 11.  7. 17. 16. 20. 15.]\n"
     ]
    }
   ],
   "source": [
    "m_i = np.zeros(M)\n",
    "num_interval = 0\n",
    "i = 0\n",
    "for val in var_series:\n",
    "    if val >= intervals[num_interval][0] and val <= intervals[num_interval][1]:\n",
    "        m_i[num_interval] += 1\n",
    "        continue\n",
    "    num_interval += 1\n",
    "    m_i[num_interval] +=1\n",
    "        \n",
    "print(f'кол-во точек в интервалах: {m_i}')"
   ]
  },
  {
   "cell_type": "code",
   "execution_count": 520,
   "metadata": {},
   "outputs": [
    {
     "name": "stdout",
     "output_type": "stream",
     "text": [
      "[0.7479, 0.4363, 0.6856, 0.4363, 1.0596, 0.9973, 1.2466, 0.9349]\n"
     ]
    }
   ],
   "source": [
    "#средняя плотность вероятности для каждого интервала\n",
    "f = [round(m_i[i] / (n * h), 4) for i in range(M)]\n",
    "print(f)"
   ]
  },
  {
   "cell_type": "code",
   "execution_count": 521,
   "metadata": {},
   "outputs": [
    {
     "data": {
      "image/png": "[encoded data removed]",
      "text/plain": [
       "<Figure size 432x288 with 1 Axes>"
      ]
     },
     "metadata": {
      "needs_background": "light"
     },
     "output_type": "display_data"
    }
   ],
   "source": [
    "x = [intervals[0][0]]\n",
    "y = [0]\n",
    "for i in range(M):\n",
    "    x.append(intervals[i][0])\n",
    "    x.append(intervals[i][1])\n",
    "    y.append(f[i])\n",
    "    y.append(f[i])\n",
    "x.append(intervals[M-1][1])\n",
    "y.append(0)\n",
    " \n",
    "plt.plot(x, y)\n",
    "plt.title(\"Гистограмма равноинтервальным методом\")\n",
    "plt.xlabel(\"y\")\n",
    "plt.ylabel(\"F(Y)\")\n",
    "plt.show()"
   ]
  },
  {
   "cell_type": "code",
   "execution_count": 522,
   "metadata": {},
   "outputs": [
    {
     "name": "stdout",
     "output_type": "stream",
     "text": [
      "[1.0905, 1.2435, 1.396, 1.5485, 1.7015, 1.8545, 2.0075, 2.16]\n"
     ]
    },
    {
     "data": {
      "image/png": "[encoded data removed]",
      "text/plain": [
       "<Figure size 432x288 with 1 Axes>"
      ]
     },
     "metadata": {
      "needs_background": "light"
     },
     "output_type": "display_data"
    }
   ],
   "source": [
    "middle = [round(intervals[i][0] + (intervals[i][1] - intervals[i][0]) / 2, 5)  for i in range(M)]\n",
    "print(middle)\n",
    "\n",
    "plt.plot(x, y)\n",
    "plt.plot(middle, f)\n",
    "plt.title(\"Полигон распределения\")\n",
    "plt.xlabel(\"y\")\n",
    "plt.ylabel(\"F(Y)\")\n",
    "plt.show()"
   ]
  },
  {
   "cell_type": "code",
   "execution_count": 523,
   "metadata": {},
   "outputs": [
    {
     "name": "stdout",
     "output_type": "stream",
     "text": [
      "empirical function: [0.0, 0.11429, 0.18095, 0.28571, 0.35238, 0.51429, 0.66667, 0.85714, 1]\n"
     ]
    }
   ],
   "source": [
    "empiric_func = []\n",
    "sum = 0\n",
    "for i in m_i:\n",
    "    empiric_func.append(round(sum / n, 5))\n",
    "    sum += i\n",
    "empiric_func.append(1)\n",
    "print(f'empirical function: {empiric_func}')"
   ]
  },
  {
   "cell_type": "code",
   "execution_count": 524,
   "metadata": {},
   "outputs": [
    {
     "data": {
      "image/png": "[encoded data removed]",
      "text/plain": [
       "<Figure size 432x288 with 1 Axes>"
      ]
     },
     "metadata": {
      "needs_background": "light"
     },
     "output_type": "display_data"
    }
   ],
   "source": [
    "x = [0.95, 1, 1]\n",
    "y = [0, 0, empiric_func[1]]\n",
    "del empiric_func[0]\n",
    "\n",
    "for i in range(M):\n",
    "    x.append(intervals[i][0])\n",
    "    x.append(intervals[i][1])\n",
    "    y.append(empiric_func[i])\n",
    "    y.append(empiric_func[i])\n",
    "x.append(intervals[M-1][1])\n",
    "y.append(1)\n",
    "\n",
    "Y = lambda y: y ** 2 / 4 - 0.25\n",
    "u = np.arange(1, sqrt(5), 0.01)\n",
    "plt.plot(u, [Y(val) for val in u], label=\"Theoretical function\") \n",
    "plt.plot(x, y, label='Empirical distribution function')\n",
    "plt.legend(loc=\"best\")\n",
    "plt.xlabel(\"y\")\n",
    "plt.ylabel(\"F(Y)\")\n",
    "plt.show()"
   ]
  },
  {
   "cell_type": "code",
   "execution_count": 525,
   "metadata": {},
   "outputs": [
    {
     "data": {
      "text/html": [
       "<div>\n",
       "<style scoped>\n",
       "    .dataframe tbody tr th:only-of-type {\n",
       "        vertical-align: middle;\n",
       "    }\n",
       "\n",
       "    .dataframe tbody tr th {\n",
       "        vertical-align: top;\n",
       "    }\n",
       "\n",
       "    .dataframe thead th {\n",
       "        text-align: right;\n",
       "    }\n",
       "</style>\n",
       "<table border=\"1\" class=\"dataframe\">\n",
       "  <thead>\n",
       "    <tr style=\"text-align: right;\">\n",
       "      <th></th>\n",
       "      <th>interval</th>\n",
       "      <th>m_i</th>\n",
       "      <th>h_i</th>\n",
       "      <th>f_i</th>\n",
       "    </tr>\n",
       "  </thead>\n",
       "  <tbody>\n",
       "    <tr>\n",
       "      <th>0</th>\n",
       "      <td>(1.014, 1.167)</td>\n",
       "      <td>12.0</td>\n",
       "      <td>0.1528</td>\n",
       "      <td>0.7479</td>\n",
       "    </tr>\n",
       "    <tr>\n",
       "      <th>1</th>\n",
       "      <td>(1.167, 1.32)</td>\n",
       "      <td>7.0</td>\n",
       "      <td>0.1528</td>\n",
       "      <td>0.4363</td>\n",
       "    </tr>\n",
       "    <tr>\n",
       "      <th>2</th>\n",
       "      <td>(1.32, 1.472)</td>\n",
       "      <td>11.0</td>\n",
       "      <td>0.1528</td>\n",
       "      <td>0.6856</td>\n",
       "    </tr>\n",
       "    <tr>\n",
       "      <th>3</th>\n",
       "      <td>(1.472, 1.625)</td>\n",
       "      <td>7.0</td>\n",
       "      <td>0.1528</td>\n",
       "      <td>0.4363</td>\n",
       "    </tr>\n",
       "    <tr>\n",
       "      <th>4</th>\n",
       "      <td>(1.625, 1.778)</td>\n",
       "      <td>17.0</td>\n",
       "      <td>0.1528</td>\n",
       "      <td>1.0596</td>\n",
       "    </tr>\n",
       "    <tr>\n",
       "      <th>5</th>\n",
       "      <td>(1.778, 1.931)</td>\n",
       "      <td>16.0</td>\n",
       "      <td>0.1528</td>\n",
       "      <td>0.9973</td>\n",
       "    </tr>\n",
       "    <tr>\n",
       "      <th>6</th>\n",
       "      <td>(1.931, 2.084)</td>\n",
       "      <td>20.0</td>\n",
       "      <td>0.1528</td>\n",
       "      <td>1.2466</td>\n",
       "    </tr>\n",
       "    <tr>\n",
       "      <th>7</th>\n",
       "      <td>(2.084, 2.236)</td>\n",
       "      <td>15.0</td>\n",
       "      <td>0.1528</td>\n",
       "      <td>0.9349</td>\n",
       "    </tr>\n",
       "  </tbody>\n",
       "</table>\n",
       "</div>"
      ],
      "text/plain": [
       "         interval   m_i     h_i     f_i\n",
       "0  (1.014, 1.167)  12.0  0.1528  0.7479\n",
       "1   (1.167, 1.32)   7.0  0.1528  0.4363\n",
       "2   (1.32, 1.472)  11.0  0.1528  0.6856\n",
       "3  (1.472, 1.625)   7.0  0.1528  0.4363\n",
       "4  (1.625, 1.778)  17.0  0.1528  1.0596\n",
       "5  (1.778, 1.931)  16.0  0.1528  0.9973\n",
       "6  (1.931, 2.084)  20.0  0.1528  1.2466\n",
       "7  (2.084, 2.236)  15.0  0.1528  0.9349"
      ]
     },
     "execution_count": 525,
     "metadata": {},
     "output_type": "execute_result"
    }
   ],
   "source": [
    "t = pd.DataFrame(\n",
    "    {\n",
    "        'interval': intervals,\n",
    "        'm_i': m_i,\n",
    "        'h_i': h,\n",
    "        'f_i': f\n",
    "    }\n",
    ")\n",
    "t"
   ]
  },
  {
   "cell_type": "code",
   "execution_count": 526,
   "metadata": {},
   "outputs": [],
   "source": [
    "Y = lambda y: y / 2 \n",
    "u = np.arange(1, sqrt(5), 0.01)"
   ]
  },
  {
   "cell_type": "code",
   "execution_count": 527,
   "metadata": {},
   "outputs": [
    {
     "data": {
      "image/png": "[encoded data removed]",
      "text/plain": [
       "<Figure size 432x288 with 1 Axes>"
      ]
     },
     "metadata": {
      "needs_background": "light"
     },
     "output_type": "display_data"
    }
   ],
   "source": [
    "x = [intervals[0][0]]\n",
    "y = [0]\n",
    "for i in range(M):\n",
    "    x.append(intervals[i][0])\n",
    "    x.append(intervals[i][1])\n",
    "    y.append(f[i])\n",
    "    y.append(f[i])\n",
    "x.append(intervals[M-1][1])\n",
    "y.append(0)\n",
    " \n",
    "plt.plot(x, y, label='Empirical distribution density')\n",
    "plt.plot(u, [Y(val) for val in u], label='Theoretical distribution density')\n",
    "plt.legend(loc=\"best\")\n",
    "plt.xlabel(\"y\")\n",
    "plt.ylabel(\"F(Y)\")\n",
    "plt.show()"
   ]
  },
  {
   "cell_type": "markdown",
   "metadata": {},
   "source": [
    "![Picture for task](https://sun9-60.userapi.com/c857024/v857024004/146015/GVe2lpcHi24.jpg)"
   ]
  },
  {
   "cell_type": "code",
   "execution_count": 528,
   "metadata": {},
   "outputs": [],
   "source": [
    "m = n // M"
   ]
  },
  {
   "cell_type": "code",
   "execution_count": 529,
   "metadata": {},
   "outputs": [
    {
     "name": "stdout",
     "output_type": "stream",
     "text": [
      "invervals: [(1.014, 1.266), (1.266, 1.414), (1.414, 1.64), (1.64, 1.7615), (1.7615, 1.8915), (1.8915, 1.9935), (1.9935, 2.1225), (2.1225, 2.236)]\n",
      "lengt of intervals: [0.252, 0.148, 0.226, 0.1215, 0.13, 0.102, 0.129, 0.1135]\n"
     ]
    }
   ],
   "source": [
    "A = np.zeros(M)\n",
    "B = np.zeros(M)\n",
    "A[0] = var_series[0]\n",
    "B[-1] = var_series[-1]\n",
    "for i in range(1, M):\n",
    "    A[i] = round((var_series[i*m] + var_series[i*m + 1]) / 2, 5)\n",
    "    B[i - 1] = A[i]\n",
    "\n",
    "intervals = list(zip(A, B))\n",
    "print(f\"invervals: {intervals}\")\n",
    "\n",
    "h_i = [round(interval[1] - interval[0], 5) for interval in intervals]\n",
    "print(f\"lengt of intervals: {h_i}\")"
   ]
  },
  {
   "cell_type": "code",
   "execution_count": 530,
   "metadata": {},
   "outputs": [
    {
     "name": "stdout",
     "output_type": "stream",
     "text": [
      "[0.4913, 0.8366, 0.5478, 1.019, 0.9524, 1.2138, 0.9598, 1.0908]\n"
     ]
    }
   ],
   "source": [
    "#средняя плотность вероятности для каждого интервала\n",
    "f = [round(m / (n * h_i[i]), 4) for i in range(M)]\n",
    "print(f)"
   ]
  },
  {
   "cell_type": "code",
   "execution_count": 531,
   "metadata": {},
   "outputs": [
    {
     "data": {
      "image/png": "[encoded data removed]",
      "text/plain": [
       "<Figure size 432x288 with 1 Axes>"
      ]
     },
     "metadata": {
      "needs_background": "light"
     },
     "output_type": "display_data"
    }
   ],
   "source": [
    "x = [intervals[0][0]]\n",
    "y = [0]\n",
    "for i in range(M):\n",
    "    x.append(intervals[i][0])\n",
    "    x.append(intervals[i][1])\n",
    "    y.append(f[i])\n",
    "    y.append(f[i])\n",
    "x.append(intervals[M-1][1])\n",
    "y.append(0)\n",
    " \n",
    "plt.plot(x, y)\n",
    "plt.title(\"Гистограмма равновероятностным методом\")\n",
    "plt.xlabel(\"y\")\n",
    "plt.ylabel(\"F(Y)\")\n",
    "plt.show()"
   ]
  },
  {
   "cell_type": "code",
   "execution_count": 532,
   "metadata": {},
   "outputs": [
    {
     "name": "stdout",
     "output_type": "stream",
     "text": [
      "[1.14, 1.34, 1.527, 1.70075, 1.8265, 1.9425, 2.058, 2.17925]\n"
     ]
    },
    {
     "data": {
      "image/png": "[encoded data removed]",
      "text/plain": [
       "<Figure size 432x288 with 1 Axes>"
      ]
     },
     "metadata": {
      "needs_background": "light"
     },
     "output_type": "display_data"
    }
   ],
   "source": [
    "middle = [round(intervals[i][0] + (intervals[i][1] - intervals[i][0]) / 2, 5)  for i in range(M)]\n",
    "print(middle)\n",
    "\n",
    "plt.plot(x, y)\n",
    "plt.plot(middle, f)\n",
    "plt.title(\"Полигон распределения\")\n",
    "plt.xlabel(\"y\")\n",
    "plt.ylabel(\"F(Y)\")\n",
    "plt.show()"
   ]
  },
  {
   "cell_type": "code",
   "execution_count": 533,
   "metadata": {},
   "outputs": [
    {
     "name": "stdout",
     "output_type": "stream",
     "text": [
      "empirical function: [0.0, 0.11429, 0.18095, 0.28571, 0.35238, 0.51429, 0.66667, 0.85714, 1]\n"
     ]
    }
   ],
   "source": [
    "empiric_func = []\n",
    "sum = 0\n",
    "for i in m_i:\n",
    "    empiric_func.append(round(sum / n, 5))\n",
    "    sum += i\n",
    "empiric_func.append(1)\n",
    "print(f'empirical function: {empiric_func}')"
   ]
  },
  {
   "cell_type": "code",
   "execution_count": 534,
   "metadata": {},
   "outputs": [
    {
     "data": {
      "image/png": "[encoded data removed]",
      "text/plain": [
       "<Figure size 432x288 with 1 Axes>"
      ]
     },
     "metadata": {
      "needs_background": "light"
     },
     "output_type": "display_data"
    }
   ],
   "source": [
    "x = [0.95, 1, 1]\n",
    "y = [0, 0, empiric_func[1]]\n",
    "del empiric_func[0]\n",
    "\n",
    "for i in range(M):\n",
    "    x.append(intervals[i][0])\n",
    "    x.append(intervals[i][1])\n",
    "    y.append(empiric_func[i])\n",
    "    y.append(empiric_func[i])\n",
    "x.append(intervals[M-1][1])\n",
    "y.append(1)\n",
    "\n",
    "Y = lambda y: y ** 2 / 4 - 0.25\n",
    "u = np.arange(1, sqrt(5), 0.01)\n",
    "plt.plot(u, [Y(val) for val in u], label=\"Theoretical function\") \n",
    "plt.plot(x, y, label='Empirical distribution function')\n",
    "plt.legend(loc=\"best\")\n",
    "plt.xlabel(\"y\")\n",
    "plt.ylabel(\"F(Y)\")\n",
    "plt.show()"
   ]
  },
  {
   "cell_type": "code",
   "execution_count": 535,
   "metadata": {},
   "outputs": [
    {
     "data": {
      "text/html": [
       "<div>\n",
       "<style scoped>\n",
       "    .dataframe tbody tr th:only-of-type {\n",
       "        vertical-align: middle;\n",
       "    }\n",
       "\n",
       "    .dataframe tbody tr th {\n",
       "        vertical-align: top;\n",
       "    }\n",
       "\n",
       "    .dataframe thead th {\n",
       "        text-align: right;\n",
       "    }\n",
       "</style>\n",
       "<table border=\"1\" class=\"dataframe\">\n",
       "  <thead>\n",
       "    <tr style=\"text-align: right;\">\n",
       "      <th></th>\n",
       "      <th>interval</th>\n",
       "      <th>m_i</th>\n",
       "      <th>h_i</th>\n",
       "      <th>f_i</th>\n",
       "    </tr>\n",
       "  </thead>\n",
       "  <tbody>\n",
       "    <tr>\n",
       "      <th>0</th>\n",
       "      <td>(1.014, 1.266)</td>\n",
       "      <td>13</td>\n",
       "      <td>0.2520</td>\n",
       "      <td>0.4913</td>\n",
       "    </tr>\n",
       "    <tr>\n",
       "      <th>1</th>\n",
       "      <td>(1.266, 1.414)</td>\n",
       "      <td>13</td>\n",
       "      <td>0.1480</td>\n",
       "      <td>0.8366</td>\n",
       "    </tr>\n",
       "    <tr>\n",
       "      <th>2</th>\n",
       "      <td>(1.414, 1.64)</td>\n",
       "      <td>13</td>\n",
       "      <td>0.2260</td>\n",
       "      <td>0.5478</td>\n",
       "    </tr>\n",
       "    <tr>\n",
       "      <th>3</th>\n",
       "      <td>(1.64, 1.7615)</td>\n",
       "      <td>13</td>\n",
       "      <td>0.1215</td>\n",
       "      <td>1.0190</td>\n",
       "    </tr>\n",
       "    <tr>\n",
       "      <th>4</th>\n",
       "      <td>(1.7615, 1.8915)</td>\n",
       "      <td>13</td>\n",
       "      <td>0.1300</td>\n",
       "      <td>0.9524</td>\n",
       "    </tr>\n",
       "    <tr>\n",
       "      <th>5</th>\n",
       "      <td>(1.8915, 1.9935)</td>\n",
       "      <td>13</td>\n",
       "      <td>0.1020</td>\n",
       "      <td>1.2138</td>\n",
       "    </tr>\n",
       "    <tr>\n",
       "      <th>6</th>\n",
       "      <td>(1.9935, 2.1225)</td>\n",
       "      <td>13</td>\n",
       "      <td>0.1290</td>\n",
       "      <td>0.9598</td>\n",
       "    </tr>\n",
       "    <tr>\n",
       "      <th>7</th>\n",
       "      <td>(2.1225, 2.236)</td>\n",
       "      <td>13</td>\n",
       "      <td>0.1135</td>\n",
       "      <td>1.0908</td>\n",
       "    </tr>\n",
       "  </tbody>\n",
       "</table>\n",
       "</div>"
      ],
      "text/plain": [
       "           interval  m_i     h_i     f_i\n",
       "0    (1.014, 1.266)   13  0.2520  0.4913\n",
       "1    (1.266, 1.414)   13  0.1480  0.8366\n",
       "2     (1.414, 1.64)   13  0.2260  0.5478\n",
       "3    (1.64, 1.7615)   13  0.1215  1.0190\n",
       "4  (1.7615, 1.8915)   13  0.1300  0.9524\n",
       "5  (1.8915, 1.9935)   13  0.1020  1.2138\n",
       "6  (1.9935, 2.1225)   13  0.1290  0.9598\n",
       "7   (2.1225, 2.236)   13  0.1135  1.0908"
      ]
     },
     "execution_count": 535,
     "metadata": {},
     "output_type": "execute_result"
    }
   ],
   "source": [
    "t = pd.DataFrame(\n",
    "    {\n",
    "        'interval': intervals,\n",
    "        'm_i': m,\n",
    "        'h_i': h_i,\n",
    "        'f_i': f\n",
    "    }\n",
    ")\n",
    "t"
   ]
  },
  {
   "cell_type": "code",
   "execution_count": 536,
   "metadata": {},
   "outputs": [],
   "source": [
    "Y = lambda y: y / 2 \n",
    "u = np.arange(1, sqrt(5), 0.01)"
   ]
  },
  {
   "cell_type": "code",
   "execution_count": 537,
   "metadata": {},
   "outputs": [
    {
     "data": {
      "image/png": "[encoded data removed]",
      "text/plain": [
       "<Figure size 432x288 with 1 Axes>"
      ]
     },
     "metadata": {
      "needs_background": "light"
     },
     "output_type": "display_data"
    }
   ],
   "source": [
    "x = [intervals[0][0]]\n",
    "y = [0]\n",
    "for i in range(M):\n",
    "    x.append(intervals[i][0])\n",
    "    x.append(intervals[i][1])\n",
    "    y.append(f[i])\n",
    "    y.append(f[i])\n",
    "x.append(intervals[M-1][1])\n",
    "y.append(0)\n",
    " \n",
    "plt.plot(x, y, label='Empirical distribution density')\n",
    "plt.plot(u, [Y(val) for val in u], label='Theoretical distribution density')\n",
    "plt.legend(loc=\"best\")\n",
    "plt.xlabel(\"y\")\n",
    "plt.ylabel(\"F(Y)\")\n",
    "plt.show()"
   ]
  }
 ],
 "metadata": {
  "kernelspec": {
   "display_name": "Python 3.6.8 64-bit",
   "language": "python",
   "name": "python36864bit32fa70fa2e4641c9834668fb3da99fce"
  },
  "language_info": {
   "codemirror_mode": {
    "name": "ipython",
    "version": 3
   },
   "file_extension": ".py",
   "mimetype": "text/x-python",
   "name": "python",
   "nbconvert_exporter": "python",
   "pygments_lexer": "ipython3",
   "version": "3.6.8"
  }
 },
 "nbformat": 4,
 "nbformat_minor": 4
}
