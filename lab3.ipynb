{
 "cells": [
  {
   "cell_type": "markdown",
   "metadata": {},
   "source": [
    "![Picture for task](https://sun9-12.userapi.com/c857024/v857024004/14606b/EmFLhLUZ8xU.jpg)"
   ]
  },
  {
   "cell_type": "markdown",
   "metadata": {},
   "source": [
    "### Задание 1. \n",
    "Сформировать выборку из 200 чисел. Проверить гипотезу о соответствии выборке теоретическому закону распределения по критерию согласия Пирсона.\n",
    "\n",
    "$ y = {\\sqrt{x}}$\n",
    "\n",
    "$ a = 1, $ \n",
    "$ b = 5 $ "
   ]
  },
  {
   "cell_type": "code",
   "execution_count": 58,
   "metadata": {},
   "outputs": [],
   "source": [
    "import random\n",
    "import math\n",
    "import numpy as np\n",
    "import matplotlib.pyplot as plt"
   ]
  },
  {
   "cell_type": "code",
   "execution_count": 59,
   "metadata": {},
   "outputs": [],
   "source": [
    "a = 1\n",
    "b = 5\n",
    "n = 200\n",
    "M = int(4 * np.log10(n))"
   ]
  },
  {
   "cell_type": "code",
   "execution_count": 60,
   "metadata": {},
   "outputs": [],
   "source": [
    "#плотность распределения\n",
    "f = lambda y: y / 2 \n",
    "\n",
    "#функция распределения\n",
    "F = lambda y: y ** 2 / 4 - 0.25"
   ]
  },
  {
   "cell_type": "code",
   "execution_count": 61,
   "metadata": {},
   "outputs": [],
   "source": [
    "x = sorted([random.uniform(a,b) for i in range(n)])\n",
    "y = sorted([math.sqrt(value) for value in x])"
   ]
  },
  {
   "cell_type": "code",
   "execution_count": 62,
   "metadata": {},
   "outputs": [],
   "source": [
    "t = np.arange(1, math.sqrt(5), 0.01)"
   ]
  },
  {
   "cell_type": "code",
   "execution_count": 93,
   "metadata": {},
   "outputs": [
    {
     "data": {
      "image/png": "[encoded data removed]",
      "text/plain": [
       "<Figure size 432x288 with 1 Axes>"
      ]
     },
     "metadata": {
      "needs_background": "light"
     },
     "output_type": "display_data"
    },
    {
     "name": "stdout",
     "output_type": "stream",
     "text": [
      "Проверим, выполняется ли контрольное соотношение |1 - sum(p_i)| <= 0.01.\n",
      "|1 - sum(p_i)| = 2.220446049250313e-16\n",
      "\n",
      "Chi^2:  4.35545442644046\n",
      "\n",
      "Кол-во степеней свободы k: 4\n",
      "Из таблицы хи квадрат выберем значение с уровнем значимости alpha = 0.01 и k = 4\n",
      "\n",
      "Chi^2(alpha, k) = 20.09\n",
      "\n",
      "Chi^2(alpha, k) > chi^2, значит, нет оснований отклонять гипотезу о теоретическом законе распределения данной СВ\n"
     ]
    }
   ],
   "source": [
    "# число элементов в каждом столбце\n",
    "v = n // M\n",
    "\n",
    "plt.plot(t, f(t), label=\"Теор. плотность распред.\")\n",
    "A = [1] + [y[i * v] for i in range(1, M)] + [math.sqrt(5)]\n",
    "plt.hist(y, bins = A, density=True, histtype=\"step\", label=\"Гист. равновер. методом\")\n",
    "plt.legend(loc=\"best\")\n",
    "plt.show()\n",
    "\n",
    "p_i = [F(A[i+1]) - F(A[i]) for i in range(0,M)] #теоретическая вероятность попадания случайной величины в i-ый интервал \n",
    "print(\"Проверим, выполняется ли контрольное соотношение |1 - sum(p_i)| <= 0.01.\\n|1 - sum(p_i)| =\", abs(1 - sum(p_i)))\n",
    "\n",
    "p = v / n # частота попадания в i-ый интервал\n",
    "chi_sq = [(p_i[i] - p)**2 / p_i[i] for i in range(0, M)]\n",
    "chi_sq = sum(chi_sq) * n\n",
    "print(\"\\nChi^2: \", chi_sq)\n",
    "\n",
    "k = M - 1 - 0 #Значение S = 0, так как закон распределения не зависит ни от каких параметро\n",
    "\n",
    "print(\"\\nКол-во степеней свободы k:\", k)\n",
    "print(\"Из таблицы хи квадрат выберем значение с уровнем значимости alpha = 0.01 и k =\", k)\n",
    "print(\"\\nChi^2(alpha, k) = 20.09\")\n",
    "print(\"\\nChi^2(alpha, k) > chi^2, значит, нет оснований отклонять гипотезу о теоретическом законе распределения данной СВ\")\n",
    "\n"
   ]
  },
  {
   "cell_type": "markdown",
   "metadata": {},
   "source": [
    "### Задание 2. \n",
    "Сформировать выборку из 30 чисел. Проверить гипотезу о соответствии выборке теоретического закона распределения по критерию согласия Колмогорова.\n"
   ]
  },
  {
   "cell_type": "code",
   "execution_count": 97,
   "metadata": {},
   "outputs": [],
   "source": [
    "n = 30\n",
    "M = 5 #sqrt(n)"
   ]
  },
  {
   "cell_type": "code",
   "execution_count": 98,
   "metadata": {},
   "outputs": [],
   "source": [
    "x = sorted([random.uniform(a,b) for i in range(n)])\n",
    "y = [math.sqrt(value) for value in x]\n",
    "var_series = sorted(y)"
   ]
  },
  {
   "cell_type": "code",
   "execution_count": 101,
   "metadata": {},
   "outputs": [
    {
     "data": {
      "image/png": "[encoded data removed]",
      "text/plain": [
       "<Figure size 432x288 with 1 Axes>"
      ]
     },
     "metadata": {
      "needs_background": "light"
     },
     "output_type": "display_data"
    },
    {
     "name": "stdout",
     "output_type": "stream",
     "text": [
      "lambda:  0.4229166118977539\n",
      "\n",
      "Уровень значимости alpha = 0.01. Тогда, доверительная вероятность beta = 1 - alpha = 0.99.\n",
      "Из табл. функции Колмогорова выберем критическое значение lambda(beta) = 1.63\n",
      "\n",
      "Т.к. lambda < lambda (beta), то у нас нет оснований отклонять выдвинутую гипотезу.\n"
     ]
    }
   ],
   "source": [
    "# эмпирическая функция распределения: count(X < x0) / count(X)\n",
    "emp_func = lambda X, x0: float(len([num for num in X if num < x0])) / len(X)\n",
    "\n",
    "emp = [emp_func(y, y0) for y0 in var_series]\n",
    "theor = [F(val) for val in y]\n",
    "\n",
    "# delta - максимальная разность между эмпирической и теор. ф распределения\n",
    "delta, index = max([(abs(theor[i] - emp[i]), i) for i in range(n)])\n",
    "\n",
    "plt.step(var_series, emp, label=\"sqrt(x) distribution\")\n",
    "plt.plot(y, theor, label=\"theoretical function\")\n",
    "plt.plot(var_series[index], theor[index] , \".\", var_series[index], emp[index], \".\")\n",
    "plt.legend(loc=\"best\")\n",
    "plt.xlabel('y')\n",
    "plt.show()\n",
    "\n",
    "# вычисляем значение критерия лямбда\n",
    "lambd = math.sqrt(n) * delta \n",
    "\n",
    "print (\"lambda: \",lambd)\n",
    "print(\"\\nУровень значимости alpha = 0.01. Тогда, доверительная вероятность beta = 1 - alpha = 0.99.\\nИз табл. функции Колмогорова выберем критическое значение lambda(beta) = 1.63\")\n",
    "print(\"\\nТ.к. lambda < lambda (beta), то у нас нет оснований отклонять выдвинутую гипотезу.\")"
   ]
  },
  {
   "cell_type": "markdown",
   "metadata": {},
   "source": [
    "### Задание 3.\n",
    "Сформировать выборку из 50 чисел. Проверить гипотезу о соответствии выборке теоретического закона распределения по критерию согласия Мизеса."
   ]
  },
  {
   "cell_type": "code",
   "execution_count": null,
   "metadata": {},
   "outputs": [],
   "source": []
  },
  {
   "cell_type": "code",
   "execution_count": null,
   "metadata": {},
   "outputs": [],
   "source": []
  }
 ],
 "metadata": {
  "kernelspec": {
   "display_name": "Python 3.6.8 64-bit",
   "language": "python",
   "name": "python36864bit32fa70fa2e4641c9834668fb3da99fce"
  },
  "language_info": {
   "codemirror_mode": {
    "name": "ipython",
    "version": 3
   },
   "file_extension": ".py",
   "mimetype": "text/x-python",
   "name": "python",
   "nbconvert_exporter": "python",
   "pygments_lexer": "ipython3",
   "version": "3.6.8"
  }
 },
 "nbformat": 4,
 "nbformat_minor": 4
}
